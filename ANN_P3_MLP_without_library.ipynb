{
 "cells": [
  {
   "cell_type": "code",
   "execution_count": 532,
   "metadata": {},
   "outputs": [],
   "source": [
    "from matplotlib import pyplot as plt\n",
    "import numpy as np\n",
    "from numpy import exp, array, random, dot, tanh\n",
    "from sklearn import datasets\n",
    "import copy\n",
    "np.random.seed(10)\n",
    "\n",
    "from math import exp\n",
    "from random import seed\n",
    "# Test training backprop algorithm\n",
    "seed(2)"
   ]
  },
  {
   "cell_type": "markdown",
   "metadata": {},
   "source": [
    "## Some useful functions\n",
    "    - A nonlinear function (sigmoid or tanh)\n",
    "        - By default, I used tanh because sigmoid can cause an overflow problem.\n",
    "        - One can also see the sigmoid function below in the comments in the code.\n",
    "    - Activation function\n",
    "    - Sum of squared error function\n",
    "    - Plotting errors function\n",
    "    - Shuffling two vectors together function\n",
    "    - Creating a 'jumps' list which holds weights"
   ]
  },
  {
   "cell_type": "code",
   "execution_count": 533,
   "metadata": {},
   "outputs": [],
   "source": [
    "'''\n",
    "def sigmoid(x,deriv=False):\n",
    "    if deriv==True:\n",
    "        return sigmoid(x)*(1-sigmoid(x))\n",
    "    #if np.amin(np.array(x)) < -710:\n",
    "    #    print('Warning: There may be overflow in sigmoid.')\n",
    "    return 1 / (1 + np.exp(-1*np.array(x)))\n",
    "'''\n",
    "def nonlin(x,deriv=False):\n",
    "    if deriv==True:\n",
    "        return 1-tanh(x)**2\n",
    "    return tanh(x)\n",
    "\n",
    "def activate(weights,prev_layer):\n",
    "    return nonlin(np.dot(weights[:-1],prev_layer) + weights[-1])\n",
    "\n",
    "def sum_of_squared_error(v1,v2):\n",
    "    if(len(v1)!=len(v2)):\n",
    "        print(\"Lengths of vectors must be consistent.\")\n",
    "        return -1\n",
    "    return np.sum(np.square(np.array(v1)-np.array(v2)))\n",
    "\n",
    "def plot_errors(ERRORS,labelx='Epoch',labely='Total Error',figsize=(10,3)):\n",
    "    # PLot the error as a function of iteratation\n",
    "    plt.figure(figsize=figsize)\n",
    "    plt.plot(ERRORS)\n",
    "    plt.xlabel(labelx)\n",
    "    plt.ylabel(labely)\n",
    "    plt.show()\n",
    "\n",
    "def shuffle_together(x,y):\n",
    "    together = list(zip(x, y))\n",
    "    random.shuffle(together)\n",
    "    x, y = zip(*together)\n",
    "    return np.asarray(list(x)),  np.asarray(list(y))\n",
    "\n",
    "def create_jump_list(sizes):\n",
    "    jumps = list()\n",
    "    for i in range(1,len(sizes)):\n",
    "        jumps.append(Jump(sizes[i-1],sizes[i]))\n",
    "    return jumps"
   ]
  },
  {
   "cell_type": "markdown",
   "metadata": {},
   "source": [
    "# Jump object (Weights between layers)"
   ]
  },
  {
   "cell_type": "code",
   "execution_count": 534,
   "metadata": {},
   "outputs": [],
   "source": [
    "class Jump():\n",
    "    def __init__(self,left,right):\n",
    "        #self.weights = random.random((left, right))\n",
    "        self.weights = np.random.uniform(low=-1,high=1,size=(left,right))"
   ]
  },
  {
   "cell_type": "markdown",
   "metadata": {},
   "source": [
    "# Network class with all functions in it\n",
    "- Network is initiated with given weights in jumps array.\n",
    "- Forward propagation is returns values on the output layer when given an input row.\n",
    "- Train function trains the network with given:\n",
    "    - Training set\n",
    "    - Number of epochs\n",
    "    - Learning rate\n",
    "    - Error threshold\n",
    "- The comments in the code can be read to understand the working basics of the backpropagation."
   ]
  },
  {
   "cell_type": "code",
   "execution_count": 618,
   "metadata": {},
   "outputs": [],
   "source": [
    "class Network():\n",
    "    # Network is initiated with given weights in jumps array.\n",
    "    def __init__(self,jumps):\n",
    "        self.jumps = jumps\n",
    "        self.n_jumps = len(jumps)\n",
    "    \n",
    "    # Training function, returns errors in each epoch.\n",
    "    def train(self,X_train,y_train,n_epoch,l_rate,threshold):\n",
    "        SSE_output = []\n",
    "        for epoch in range(n_epoch):\n",
    "            \n",
    "            cur_outputs = []\n",
    "            left = X_train[:]\n",
    "            \n",
    "            for jump in self.jumps:\n",
    "                left = nonlin(dot(left,jump.weights))\n",
    "                cur_outputs.append(left)\n",
    "            \n",
    "            errors = [0]*self.n_jumps\n",
    "            deltas = [0]*self.n_jumps\n",
    "            \n",
    "            # Error and delta at output layer\n",
    "            errors[-1] = y_train - cur_outputs[-1]\n",
    "            deltas[-1] = errors[-1]*nonlin(cur_outputs[-1],deriv=True)\n",
    "            \n",
    "            # Append the sum of squared error to SSE_output\n",
    "            SSE_output.append(np.sum(np.square(errors[-1])))\n",
    "            if SSE_output[-1]<threshold:\n",
    "                break\n",
    "            \n",
    "            # Calculating the errors and deltas for backpropagation\n",
    "            for i in reversed(range(self.n_jumps-1)):\n",
    "                errors[i] = deltas[i+1].dot(self.jumps[i+1].weights.T)\n",
    "                deltas[i] = errors[i]*nonlin(cur_outputs[i],deriv=True)\n",
    "            \n",
    "            # Adjusting changes\n",
    "            adjustments = []\n",
    "            adjustments.append(X_train.T.dot(deltas[0]))\n",
    "            for i in range(1,len(self.jumps)):\n",
    "                adjustments.append(cur_outputs[i-1].T.dot(deltas[i]))\n",
    "            \n",
    "            # The backpropagation: changing weights\n",
    "            for i,jump in enumerate(self.jumps):\n",
    "                jump.weights+=l_rate*adjustments[i]\n",
    "        return SSE_output\n",
    "    \n",
    "    # Gives a result on the output layer when given an input row.\n",
    "    def forward_propagate(self,row):\n",
    "        left = row\n",
    "        for jump in self.jumps:\n",
    "            left = nonlin(dot(left,jump.weights))\n",
    "        return left"
   ]
  },
  {
   "cell_type": "markdown",
   "metadata": {},
   "source": [
    "# Q1 XOR Problem"
   ]
  },
  {
   "cell_type": "markdown",
   "metadata": {},
   "source": [
    "### Network creation for XOR Problem\n",
    "- It has a 3 layer structure which can be changed."
   ]
  },
  {
   "cell_type": "code",
   "execution_count": 614,
   "metadata": {},
   "outputs": [],
   "source": [
    "sizes_xor = [2,8,1]\n",
    "X_train_xor = np.asarray([[0,0],[0,1],[1,0],[1,1]])\n",
    "y_train_xor = [[0],[1],[1],[0]]\n",
    "\n",
    "X_test_xor = [[0,0],[0,1],[1,0],[1,1]]\n",
    "y_test_xor = [[0],[1],[1],[0]]\n",
    "\n",
    "jumps_xor = create_jump_list(sizes_xor)\n",
    "network_xor = Network(jumps_xor)"
   ]
  },
  {
   "cell_type": "markdown",
   "metadata": {},
   "source": [
    "### Training the XOR network"
   ]
  },
  {
   "cell_type": "code",
   "execution_count": 615,
   "metadata": {},
   "outputs": [],
   "source": [
    "n_epoch_xor   = 10000\n",
    "l_rate_xor    = 0.005\n",
    "threshold_xor = 0.003\n",
    "\n",
    "SSE_errors_xor = network_xor.train(X_train_xor,y_train_xor,n_epoch_xor,l_rate_xor,threshold_xor)\n",
    "test_results_xor = network_xor.forward_propagate(X_test_xor)"
   ]
  },
  {
   "cell_type": "markdown",
   "metadata": {},
   "source": [
    "### Plotting errors vs Epochs for XOR"
   ]
  },
  {
   "cell_type": "code",
   "execution_count": 616,
   "metadata": {},
   "outputs": [
    {
     "data": {
      "image/png": "[encoded data removed]",
      "text/plain": [
       "<matplotlib.figure.Figure at 0x10e81dcf8>"
      ]
     },
     "metadata": {},
     "output_type": "display_data"
    }
   ],
   "source": [
    "plot_errors(SSE_errors_xor)"
   ]
  },
  {
   "cell_type": "markdown",
   "metadata": {},
   "source": [
    "### Accuracy for XOR"
   ]
  },
  {
   "cell_type": "code",
   "execution_count": 617,
   "metadata": {},
   "outputs": [
    {
     "name": "stdout",
     "output_type": "stream",
     "text": [
      "\t  Calculated VS Intended\n",
      "0.0 ==> 0 vs 0\n",
      "0.963383338401 ==> 1 vs 1\n",
      "0.963228616815 ==> 1 vs 1\n",
      "0.0175018412371 ==> 0 vs 0\n",
      "Accuracy: 1.0\n"
     ]
    }
   ],
   "source": [
    "print('\\t  Calculated VS Intended')\n",
    "acc = 0\n",
    "for i,elm in enumerate(test_results_xor):\n",
    "    prediction = elm[0]>0.5\n",
    "    print(elm[0],'==>',int(prediction),'vs',y_test_xor[i][0])\n",
    "    if prediction == y_test_xor[i]:\n",
    "        acc+=1\n",
    "        \n",
    "print('Accuracy:',acc/len(y_test_xor))"
   ]
  },
  {
   "cell_type": "markdown",
   "metadata": {},
   "source": [
    "# Q2 Sin"
   ]
  },
  {
   "cell_type": "markdown",
   "metadata": {},
   "source": [
    "## Q2.1 Sin for 3 layers (it usually works worse than 4 layers )"
   ]
  },
  {
   "cell_type": "code",
   "execution_count": 606,
   "metadata": {},
   "outputs": [],
   "source": [
    "sizes_sin = [1,10,1]\n",
    "\n",
    "X_train_sin = np.random.uniform(low=0, high=2*np.pi, size=(40,1))\n",
    "X_test_sin = np.random.uniform(low=0, high=2*np.pi, size=(20,1))\n",
    "\n",
    "y_train_sin = np.sin(X_train_sin)\n",
    "y_test_sin = np.sin(X_test_sin)"
   ]
  },
  {
   "cell_type": "code",
   "execution_count": 607,
   "metadata": {},
   "outputs": [],
   "source": [
    "jumps_sin = create_jump_list(sizes_sin)\n",
    "network_sin = Network(jumps_sin)"
   ]
  },
  {
   "cell_type": "code",
   "execution_count": 608,
   "metadata": {},
   "outputs": [],
   "source": [
    "n_epoch_sin   = 100000\n",
    "l_rate_sin    = 0.0001\n",
    "threshold_sin = 2\n",
    "\n",
    "SSE_errors_sin = network_sin.train(X_train_sin,y_train_sin,n_epoch_sin,l_rate_sin,threshold_sin)\n",
    "test_results_sin = network_sin.forward_propagate(X_test_sin)"
   ]
  },
  {
   "cell_type": "markdown",
   "metadata": {},
   "source": [
    "### Please note that:\n",
    "In the plot below, even though the maximum number of epochs is 100.000, this training is done after 17.500 epochs since the errors is below given threshold."
   ]
  },
  {
   "cell_type": "code",
   "execution_count": 609,
   "metadata": {},
   "outputs": [
    {
     "data": {
      "image/png": "[encoded data removed]",
      "text/plain": [
       "<matplotlib.figure.Figure at 0x10f794c50>"
      ]
     },
     "metadata": {},
     "output_type": "display_data"
    }
   ],
   "source": [
    "plot_errors(SSE_errors_sin)"
   ]
  },
  {
   "cell_type": "code",
   "execution_count": 610,
   "metadata": {},
   "outputs": [
    {
     "name": "stdout",
     "output_type": "stream",
     "text": [
      "Calculated VS Intended\n",
      "-0.614\t vs   -0.983\n",
      "-0.801\t vs   -0.704\n",
      "0.773\t vs   0.876\n",
      "-0.596\t vs   -0.971\n",
      "-0.839\t vs   -0.380\n",
      "0.555\t vs   0.693\n",
      "0.787\t vs   0.952\n",
      "0.292\t vs   0.290\n",
      "-0.761\t vs   -0.880\n",
      "0.166\t vs   0.102\n",
      "0.357\t vs   0.388\n",
      "0.048\t vs   -0.072\n",
      "0.501\t vs   0.609\n",
      "-0.080\t vs   -0.262\n",
      "0.761\t vs   0.994\n",
      "0.769\t vs   0.999\n",
      "0.772\t vs   0.873\n",
      "0.323\t vs   0.336\n",
      "-0.725\t vs   -0.960\n",
      "0.533\t vs   0.659\n"
     ]
    }
   ],
   "source": [
    "print('Calculated VS Intended')\n",
    "for i,elm in enumerate(test_results_sin):\n",
    "    print('%.3f\\t vs   %.3f' % (elm[0],y_test_sin[i][0]))"
   ]
  },
  {
   "cell_type": "code",
   "execution_count": 611,
   "metadata": {},
   "outputs": [
    {
     "data": {
      "image/png": "[encoded data removed]",
      "text/plain": [
       "<matplotlib.figure.Figure at 0x10ee2e5f8>"
      ]
     },
     "metadata": {},
     "output_type": "display_data"
    }
   ],
   "source": [
    "plt.figure()\n",
    "plt.plot(X_test_sin, y_test_sin,'.')\n",
    "plt.plot(X_test_sin,test_results_sin,'*')\n",
    "plt.show()"
   ]
  },
  {
   "cell_type": "markdown",
   "metadata": {},
   "source": [
    "# Q2.2 Sin for 4 layers "
   ]
  },
  {
   "cell_type": "code",
   "execution_count": 619,
   "metadata": {},
   "outputs": [
    {
     "data": {
      "image/png": "[encoded data removed]",
      "text/plain": [
       "<matplotlib.figure.Figure at 0x10e820f60>"
      ]
     },
     "metadata": {},
     "output_type": "display_data"
    }
   ],
   "source": [
    "sizes_sin = [1,10,7,1]\n",
    "\n",
    "X_train_sin = np.random.uniform(low=0, high=2*np.pi, size=(40,1))\n",
    "X_test_sin = np.random.uniform(low=0, high=2*np.pi, size=(20,1))\n",
    "\n",
    "y_train_sin = np.sin(X_train_sin)\n",
    "y_test_sin = np.sin(X_test_sin)\n",
    "\n",
    "jumps_sin = create_jump_list(sizes_sin)\n",
    "network_sin = Network(jumps_sin)\n",
    "\n",
    "n_epoch_sin   = 20000\n",
    "l_rate_sin    = 0.0005\n",
    "threshold_sin = 1\n",
    "\n",
    "SSE_errors_sin = network_sin.train(X_train_sin,y_train_sin,n_epoch_sin,l_rate_sin,threshold_sin)\n",
    "test_results_sin = network_sin.forward_propagate(X_test_sin)\n",
    "\n",
    "plot_errors(SSE_errors_sin)"
   ]
  },
  {
   "cell_type": "code",
   "execution_count": 620,
   "metadata": {},
   "outputs": [
    {
     "name": "stdout",
     "output_type": "stream",
     "text": [
      "    Calculated VS Intended\n",
      "0.835\t vs   0.973\n",
      "0.640\t vs   0.489\n",
      "0.821\t vs   0.867\n",
      "-0.850\t vs   -1.000\n",
      "-0.900\t vs   -0.927\n",
      "0.242\t vs   0.230\n",
      "-0.951\t vs   -0.381\n",
      "0.474\t vs   0.502\n",
      "-0.954\t vs   -0.324\n",
      "-0.833\t vs   -0.997\n",
      "-0.963\t vs   -0.012\n",
      "0.772\t vs   0.711\n",
      "-0.620\t vs   -0.747\n",
      "0.730\t vs   0.870\n",
      "-0.960\t vs   -0.111\n",
      "-0.619\t vs   -0.745\n",
      "0.827\t vs   0.892\n",
      "0.831\t vs   0.995\n",
      "0.823\t vs   1.000\n",
      "0.210\t vs   0.195\n"
     ]
    }
   ],
   "source": [
    "print('    Calculated VS Intended')\n",
    "acc = 0\n",
    "for i,elm in enumerate(test_results_sin):\n",
    "    print('%.3f\\t vs   %.3f' % (elm[0],y_test_sin[i][0]))"
   ]
  },
  {
   "cell_type": "code",
   "execution_count": 621,
   "metadata": {},
   "outputs": [
    {
     "data": {
      "image/png": "[encoded data removed]",
      "text/plain": [
       "<matplotlib.figure.Figure at 0x10eb81630>"
      ]
     },
     "metadata": {},
     "output_type": "display_data"
    }
   ],
   "source": [
    "plt.figure()\n",
    "plt.plot(X_test_sin, y_test_sin,'.')\n",
    "plt.plot(X_test_sin,test_results_sin,'*')\n",
    "plt.show()"
   ]
  },
  {
   "cell_type": "markdown",
   "metadata": {},
   "source": [
    "# Question 3 ( 3 and 4 layer networks for Iris)"
   ]
  },
  {
   "cell_type": "markdown",
   "metadata": {},
   "source": [
    "### Load, shuffle and split the Iris dataset"
   ]
  },
  {
   "cell_type": "code",
   "execution_count": 586,
   "metadata": {},
   "outputs": [],
   "source": [
    "iris = datasets.load_iris()\n",
    "X_init, y_init = iris.data, iris.target\n",
    "X, y = shuffle_together(X_init,y_init)\n",
    "\n",
    "X_train, X_test = X[:125],X[125:]\n",
    "y_train, y_test = y[:125],y[125:]\n",
    "\n",
    "# To be consistent in the ANN model, change y_train and y_test into\n",
    "# 0 => [1 0 0]\n",
    "# 1 => [0 1 0]\n",
    "# 2 => [0 0 1]\n",
    "def iris_y_into_3_nodes(y):\n",
    "    temp = []\n",
    "    for i in range(len(y)):\n",
    "        if y[i] == 0:\n",
    "            temp.append([1,0,0])\n",
    "        elif y[i] == 1:\n",
    "            temp.append([0,1,0])\n",
    "        else:\n",
    "            temp.append([0,0,1])\n",
    "    return np.array(temp)\n",
    "\n",
    "y_train = iris_y_into_3_nodes(y_train)\n",
    "y_test  = iris_y_into_3_nodes(y_test)"
   ]
  },
  {
   "cell_type": "markdown",
   "metadata": {},
   "source": [
    "### Network creation for Iris Dataset (3 Layers)"
   ]
  },
  {
   "cell_type": "code",
   "execution_count": 587,
   "metadata": {},
   "outputs": [],
   "source": [
    "sizes_iris = [4,10,3]\n",
    "jumps_iris = create_jump_list(sizes_iris)\n",
    "\n",
    "network_iris = Network(jumps_iris)"
   ]
  },
  {
   "cell_type": "markdown",
   "metadata": {},
   "source": [
    "### Training the network for Iris"
   ]
  },
  {
   "cell_type": "code",
   "execution_count": 588,
   "metadata": {},
   "outputs": [],
   "source": [
    "n_epoch_iris   = 10000\n",
    "l_rate_iris    = 0.001\n",
    "threshold_iris = 6\n",
    "\n",
    "SSE_errors_iris =network_iris.train(X_train,y_train,n_epoch_iris,l_rate_iris,threshold_iris)\n",
    "test_results_iris = network_iris.forward_propagate(X_test)"
   ]
  },
  {
   "cell_type": "markdown",
   "metadata": {},
   "source": [
    "### Accuracy for Iris"
   ]
  },
  {
   "cell_type": "code",
   "execution_count": 589,
   "metadata": {},
   "outputs": [
    {
     "name": "stdout",
     "output_type": "stream",
     "text": [
      " [0]\t  [1]\t  [2]\t    Calculated VS Intended\n",
      "-0.004\t 0.973\t -0.089\t \t==>  1 vs 1\n",
      "-0.001\t 0.983\t 0.041\t \t==>  1 vs 1\n",
      "0.999\t -0.090\t 0.005\t \t==>  0 vs 0\n",
      "-0.004\t 0.918\t 0.255\t \t==>  1 vs 1\n",
      "0.039\t 0.025\t 0.949\t \t==>  2 vs 2\n",
      "0.025\t -0.019\t 0.945\t \t==>  2 vs 2\n",
      "0.004\t 0.980\t -0.008\t \t==>  1 vs 1\n",
      "0.999\t -0.031\t -0.006\t \t==>  0 vs 0\n",
      "0.998\t -0.001\t 0.014\t \t==>  0 vs 0\n",
      "-0.041\t 0.059\t 0.960\t \t==>  2 vs 2\n",
      "0.009\t 0.943\t 0.018\t \t==>  1 vs 1\n",
      "0.998\t -0.009\t 0.008\t \t==>  0 vs 0\n",
      "-0.074\t -0.077\t 0.954\t \t==>  2 vs 2\n",
      "0.023\t 0.489\t 0.833\t \t==>  2 vs 1\n",
      "-0.004\t 0.959\t -0.039\t \t==>  1 vs 1\n",
      "0.031\t 0.007\t 0.932\t \t==>  2 vs 2\n",
      "0.998\t 0.111\t -0.025\t \t==>  0 vs 0\n",
      "0.999\t -0.056\t -0.000\t \t==>  0 vs 0\n",
      "0.002\t -0.024\t 0.951\t \t==>  2 vs 2\n",
      "0.052\t 0.719\t 0.527\t \t==>  1 vs 2\n",
      "-0.012\t 0.014\t 0.948\t \t==>  2 vs 2\n",
      "0.999\t -0.114\t 0.009\t \t==>  0 vs 0\n",
      "0.999\t 0.004\t 0.002\t \t==>  0 vs 0\n",
      "0.031\t 0.543\t 0.764\t \t==>  2 vs 2\n",
      "0.007\t 0.945\t -0.029\t \t==>  1 vs 1\n",
      "Accuracy: 0.92\n"
     ]
    }
   ],
   "source": [
    "print(' [0]\\t  [1]\\t  [2]\\t    Calculated VS Intended')\n",
    "acc = 0\n",
    "for i,elm in enumerate(test_results_iris):\n",
    "    for o in elm:\n",
    "        print('%.3f\\t' % o, end =\" \")\n",
    "    print('\\t==> ', np.where(elm == max(elm))[0][0],'vs', int(np.where(y_test[i]==1)[0]))\n",
    "    \n",
    "    if np.where(elm == max(elm))[0][0] == np.where(y_test[i] == 1)[0][0]:\n",
    "        acc += 1\n",
    "print('Accuracy:',acc/len(y_test))"
   ]
  },
  {
   "cell_type": "markdown",
   "metadata": {},
   "source": [
    "### Plotting errors vs Epochs for Iris"
   ]
  },
  {
   "cell_type": "code",
   "execution_count": 590,
   "metadata": {},
   "outputs": [
    {
     "data": {
      "image/png": "[encoded data removed]",
      "text/plain": [
       "<matplotlib.figure.Figure at 0x10e82ef60>"
      ]
     },
     "metadata": {},
     "output_type": "display_data"
    }
   ],
   "source": [
    "plot_errors(SSE_errors_iris)"
   ]
  },
  {
   "cell_type": "markdown",
   "metadata": {},
   "source": [
    "# Q3.2 XOR with 4 layers"
   ]
  },
  {
   "cell_type": "markdown",
   "metadata": {},
   "source": [
    "### Network creation for Iris Dataset (4 Layers)\n",
    "### Training the network for Iris\n",
    "### Accuracy for Iris\n",
    "### Plotting errors vs Epochs for Iris"
   ]
  },
  {
   "cell_type": "code",
   "execution_count": 593,
   "metadata": {},
   "outputs": [
    {
     "name": "stdout",
     "output_type": "stream",
     "text": [
      " [0]\t  [1]\t  [2]\t    Calculated VS Intended\n",
      "0.041\t 0.033\t 0.945\t \t==>  2 vs 2\n",
      "0.995\t -0.058\t -0.008\t \t==>  0 vs 0\n",
      "0.375\t 0.997\t 0.032\t \t==>  1 vs 1\n",
      "0.700\t 0.990\t 0.073\t \t==>  1 vs 1\n",
      "0.037\t -0.018\t 0.966\t \t==>  2 vs 2\n",
      "0.012\t -0.028\t 0.979\t \t==>  2 vs 2\n",
      "0.022\t 0.999\t 0.009\t \t==>  1 vs 1\n",
      "-0.018\t 0.999\t 0.026\t \t==>  1 vs 1\n",
      "0.994\t 0.056\t 0.057\t \t==>  0 vs 0\n",
      "0.029\t -0.027\t 0.972\t \t==>  2 vs 2\n",
      "0.995\t -0.055\t -0.004\t \t==>  0 vs 0\n",
      "0.135\t 0.998\t 0.006\t \t==>  1 vs 1\n",
      "0.994\t -0.022\t -0.004\t \t==>  0 vs 0\n",
      "0.994\t 0.007\t -0.012\t \t==>  0 vs 0\n",
      "0.995\t -0.047\t 0.008\t \t==>  0 vs 0\n",
      "0.995\t -0.021\t 0.016\t \t==>  0 vs 0\n",
      "0.994\t -0.022\t -0.004\t \t==>  0 vs 0\n",
      "0.020\t -0.026\t 0.971\t \t==>  2 vs 2\n",
      "0.022\t 0.130\t 0.865\t \t==>  2 vs 2\n",
      "0.073\t 0.998\t -0.000\t \t==>  1 vs 1\n",
      "-0.010\t -0.050\t 0.984\t \t==>  2 vs 2\n",
      "0.081\t 0.985\t -0.107\t \t==>  1 vs 1\n",
      "0.064\t 0.996\t -0.025\t \t==>  1 vs 1\n",
      "0.994\t -0.013\t -0.013\t \t==>  0 vs 0\n",
      "0.995\t -0.053\t 0.000\t \t==>  0 vs 0\n",
      "Accuracy: 1.0\n"
     ]
    },
    {
     "data": {
      "image/png": "[encoded data removed]",
      "text/plain": [
       "<matplotlib.figure.Figure at 0x10e7e2940>"
      ]
     },
     "metadata": {},
     "output_type": "display_data"
    }
   ],
   "source": [
    "iris = datasets.load_iris()\n",
    "X_init, y_init = iris.data, iris.target\n",
    "X, y = shuffle_together(X_init,y_init)\n",
    "\n",
    "X_train, X_test = X[:125],X[125:]\n",
    "y_train, y_test = y[:125],y[125:]\n",
    "\n",
    "y_train = iris_y_into_3_nodes(y_train)\n",
    "y_test  = iris_y_into_3_nodes(y_test)\n",
    "\n",
    "sizes_iris = [4,10,10,3]\n",
    "jumps_iris = create_jump_list(sizes_iris)\n",
    "\n",
    "network_iris = Network(jumps_iris)\n",
    "\n",
    "n_epoch_iris   = 10000\n",
    "l_rate_iris    = 0.001\n",
    "threshold_iris = 4\n",
    "\n",
    "SSE_errors_iris =network_iris.train(X_train,y_train,n_epoch_iris,l_rate_iris,threshold_iris)\n",
    "test_results_iris = network_iris.forward_propagate(X_test)\n",
    "\n",
    "print(' [0]\\t  [1]\\t  [2]\\t    Calculated VS Intended')\n",
    "acc = 0\n",
    "for i,elm in enumerate(test_results_iris):\n",
    "    for o in elm:\n",
    "        print('%.3f\\t' % o, end =\" \")\n",
    "    print('\\t==> ', np.where(elm == max(elm))[0][0],'vs', int(np.where(y_test[i]==1)[0]))\n",
    "    \n",
    "    if np.where(elm == max(elm))[0][0] == np.where(y_test[i] == 1)[0][0]:\n",
    "        acc += 1\n",
    "print('Accuracy:',acc/len(y_test))\n",
    "\n",
    "plot_errors(SSE_errors_iris)"
   ]
  },
  {
   "cell_type": "markdown",
   "metadata": {},
   "source": [
    "# Discussion & Conclusion\n",
    "- I have written an MLP network class which can be created with arbitrary number of layers and nodes in each layer. I have solved these problems: \n",
    "    - XOR problem (3 layers)\n",
    "    - Sin problem (both 3 and 4 layers)\n",
    "    - Iris problem (both 3 and 4 layers)\n",
    "- Note that in the implementation, a network stops training after error is below given error threshold OR given max epochs is exceeded.\n",
    "- The analysis of the model can be done with different hyperparameters such as \"learning rate\" and different number of layers and nodes.\n",
    "- We can see that our model usually works well. But sometimes it behaves unexpectedly because of the bad choice of hyperparameters. This might be considered as a drawback of the algorithm. This is a common problem in the ANN models and it is usually solved empirically.\n",
    "- I made use of this links during the implementation: \n",
    "    - https://machinelearningmastery.com/implement-backpropagation-algorithm-scratch-python/\n",
    "    - https://medium.com/technology-invention-and-more/how-to-build-a-multi-layered-neural-network-in-python-53ec3d1d326a"
   ]
  },
  {
   "cell_type": "code",
   "execution_count": null,
   "metadata": {},
   "outputs": [],
   "source": []
  }
 ],
 "metadata": {
  "kernelspec": {
   "display_name": "Python 3",
   "language": "python",
   "name": "python3"
  },
  "language_info": {
   "codemirror_mode": {
    "name": "ipython",
    "version": 3
   },
   "file_extension": ".py",
   "mimetype": "text/x-python",
   "name": "python",
   "nbconvert_exporter": "python",
   "pygments_lexer": "ipython3",
   "version": "3.6.4"
  }
 },
 "nbformat": 4,
 "nbformat_minor": 2
}
